{
 "cells": [
  {
   "cell_type": "code",
   "id": "initial_id",
   "metadata": {
    "collapsed": true,
    "ExecuteTime": {
     "end_time": "2025-02-10T18:36:06.212426Z",
     "start_time": "2025-02-10T18:36:06.208324Z"
    }
   },
   "source": [
    "import pandas as pd\n",
    "import chardet"
   ],
   "outputs": [],
   "execution_count": 25
  },
  {
   "metadata": {
    "ExecuteTime": {
     "end_time": "2025-02-10T18:36:08.453756Z",
     "start_time": "2025-02-10T18:36:08.447169Z"
    }
   },
   "cell_type": "code",
   "source": [
    "# Detect Encoding\n",
    "with open(\"data.csv\", \"rb\") as f:\n",
    "    result = chardet.detect(f.read(100000))  # Analyze the first 100KB data\n",
    "    encoding_type = result['encoding']"
   ],
   "id": "ac5e364cdb99a563",
   "outputs": [],
   "execution_count": 26
  },
  {
   "metadata": {
    "ExecuteTime": {
     "end_time": "2025-02-10T18:36:09.137388Z",
     "start_time": "2025-02-10T18:36:09.133833Z"
    }
   },
   "cell_type": "code",
   "source": "print(f\"Detected encoding: {encoding_type}\")",
   "id": "2f3656d15f3d6d10",
   "outputs": [
    {
     "name": "stdout",
     "output_type": "stream",
     "text": [
      "Algılanan encoding: ascii\n"
     ]
    }
   ],
   "execution_count": 27
  },
  {
   "metadata": {
    "ExecuteTime": {
     "end_time": "2025-02-10T18:36:10.666169Z",
     "start_time": "2025-02-10T18:36:10.256831Z"
    }
   },
   "cell_type": "code",
   "source": "df = pd.read_csv(\"data.csv\", encoding=\"ISO-8859-1\")",
   "id": "c72bbb4c5d461ca2",
   "outputs": [],
   "execution_count": 28
  },
  {
   "metadata": {
    "ExecuteTime": {
     "end_time": "2025-02-10T18:36:12.134097Z",
     "start_time": "2025-02-10T18:36:12.034295Z"
    }
   },
   "cell_type": "code",
   "source": "df['InvoiceDate'] = pd.to_datetime(df['InvoiceDate'], format='%m/%d/%Y %H:%M')",
   "id": "33414ad056042cc2",
   "outputs": [],
   "execution_count": 29
  },
  {
   "metadata": {
    "ExecuteTime": {
     "end_time": "2025-02-10T18:36:13.626908Z",
     "start_time": "2025-02-10T18:36:13.426760Z"
    }
   },
   "cell_type": "code",
   "source": [
    "df['InvoiceNo'] = df['InvoiceNo'].astype(str)\n",
    "df['StockCode'] = df['StockCode'].astype(str)\n",
    "df['CustomerID'] = df['CustomerID'].astype(str)"
   ],
   "id": "2082b5d422acd88c",
   "outputs": [],
   "execution_count": 30
  },
  {
   "metadata": {
    "ExecuteTime": {
     "end_time": "2025-02-10T18:36:16.957387Z",
     "start_time": "2025-02-10T18:36:15.514324Z"
    }
   },
   "cell_type": "code",
   "source": "df.to_csv(\"cleaned_data.csv\", index=False, encoding='utf-8')",
   "id": "320dac1222428bb4",
   "outputs": [],
   "execution_count": 31
  },
  {
   "metadata": {},
   "cell_type": "code",
   "outputs": [],
   "execution_count": null,
   "source": "",
   "id": "55c645a1dd23676b"
  }
 ],
 "metadata": {
  "kernelspec": {
   "display_name": "Python 3",
   "language": "python",
   "name": "python3"
  },
  "language_info": {
   "codemirror_mode": {
    "name": "ipython",
    "version": 2
   },
   "file_extension": ".py",
   "mimetype": "text/x-python",
   "name": "python",
   "nbconvert_exporter": "python",
   "pygments_lexer": "ipython2",
   "version": "2.7.6"
  }
 },
 "nbformat": 4,
 "nbformat_minor": 5
}
